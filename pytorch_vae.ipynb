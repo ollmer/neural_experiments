{
 "cells": [
  {
   "cell_type": "code",
   "execution_count": 1,
   "metadata": {},
   "outputs": [],
   "source": [
    "import torchvision.datasets as dset\n",
    "import torchvision.transforms as transforms\n",
    "import torch\n",
    "import torch.nn as nn\n",
    "import torch.nn.functional as F\n",
    "import torch.optim as optim"
   ]
  },
  {
   "cell_type": "code",
   "execution_count": 2,
   "metadata": {},
   "outputs": [],
   "source": [
    "%matplotlib inline\n",
    "import seaborn as sns\n",
    "import matplotlib.pyplot as plt\n",
    "import numpy as np\n",
    "from time import time"
   ]
  },
  {
   "cell_type": "code",
   "execution_count": 3,
   "metadata": {},
   "outputs": [
    {
     "name": "stdout",
     "output_type": "stream",
     "text": [
      "cuda True\n"
     ]
    }
   ],
   "source": [
    "use_cuda = torch.cuda.is_available()\n",
    "print('cuda', use_cuda)"
   ]
  },
  {
   "cell_type": "code",
   "execution_count": 70,
   "metadata": {},
   "outputs": [],
   "source": [
    "def plot_digits(*args):\n",
    "    n = min([x.size(0) for x in args])\n",
    "    args = [x.cpu().data.numpy().squeeze() for x in args]\n",
    "    \n",
    "    plt.figure(figsize=(2*n, 2*len(args)))\n",
    "    for j in range(n):\n",
    "        for i in range(len(args)):\n",
    "            ax = plt.subplot(len(args), n, i*n + j + 1)\n",
    "            plt.imshow(args[i][j])\n",
    "            plt.gray()\n",
    "            ax.get_xaxis().set_visible(False)\n",
    "            ax.get_yaxis().set_visible(False)\n",
    "\n",
    "    plt.show()"
   ]
  },
  {
   "cell_type": "code",
   "execution_count": 115,
   "metadata": {},
   "outputs": [],
   "source": [
    "# Гомотопия по прямой между объектами или между кодами\n",
    "def plot_homotopy(frm, to, n=10, decoder=None):\n",
    "    z = torch.zeros(([n] + list(frm.size())))\n",
    "    if use_cuda:\n",
    "        z = z.cuda()\n",
    "    for i, t in enumerate(np.linspace(0., 1., n)):\n",
    "        z[i] = frm * (1-t) + to * t\n",
    "    if decoder:\n",
    "        plot_digits(sigm(decoder(z)))\n",
    "    else:\n",
    "        plot_digits(z)"
   ]
  },
  {
   "cell_type": "code",
   "execution_count": 5,
   "metadata": {},
   "outputs": [
    {
     "name": "stdout",
     "output_type": "stream",
     "text": [
      "Files already downloaded and verified\n",
      "Files already downloaded and verified\n"
     ]
    }
   ],
   "source": [
    "train_cifar = dset.CIFAR10(root='cifar', train=True, transform=transforms.ToTensor(), download=True)\n",
    "test_cifar = dset.CIFAR10(root='cifar', train=False, transform=transforms.ToTensor(), download=True)"
   ]
  },
  {
   "cell_type": "code",
   "execution_count": 7,
   "metadata": {},
   "outputs": [],
   "source": [
    "# if not exist, download mnist dataset\n",
    "train_set = dset.MNIST(root='../mnist', train=True, transform=transforms.ToTensor(), download=True)\n",
    "test_set = dset.MNIST(root='../mnist', train=False, transform=transforms.ToTensor(), download=True)"
   ]
  },
  {
   "cell_type": "code",
   "execution_count": 46,
   "metadata": {},
   "outputs": [],
   "source": [
    "sigm = nn.Sigmoid()\n",
    "def draw(imgs):\n",
    "    with torch.no_grad():\n",
    "        imgs = torch.cat(imgs)\n",
    "        if use_cuda:\n",
    "            imgs = imgs.cuda()\n",
    "        y = model.forward(imgs.unsqueeze(1))\n",
    "        y = sigm(y)\n",
    "        decoded_imgs = y\n",
    "        plot_digits(imgs, decoded_imgs)"
   ]
  },
  {
   "cell_type": "code",
   "execution_count": 105,
   "metadata": {},
   "outputs": [
    {
     "name": "stdout",
     "output_type": "stream",
     "text": [
      "77665\n"
     ]
    }
   ],
   "source": [
    "class DenseAE(nn.Module):\n",
    "    def __init__(self):\n",
    "        super().__init__()\n",
    "        encoding_dim = 49\n",
    "        \n",
    "        self.encoder = nn.Linear(28*28, encoding_dim)\n",
    "        self.relu = nn.ReLU()\n",
    "        self.decoder = nn.Linear(encoding_dim, 28*28)\n",
    "        \n",
    "    def forward(self, x):\n",
    "        x = x.view(-1, 28*28)\n",
    "        code = self.relu(self.encoder(x))\n",
    "        decoded = self.decoder(code)\n",
    "        return decoded.view(-1, 1, 28, 28)\n",
    "    \n",
    "    def count_parameters(self, module=None):\n",
    "        if module is None:\n",
    "            module = self\n",
    "        return sum(p.numel() for p in module.parameters() if p.requires_grad)\n",
    "    \n",
    "model = DenseAE()\n",
    "if use_cuda:\n",
    "    model = model.cuda()\n",
    "print(model.count_parameters())\n"
   ]
  },
  {
   "cell_type": "code",
   "execution_count": null,
   "metadata": {},
   "outputs": [],
   "source": [
    "class DenseAEDeep(nn.Module):\n",
    "    def __init__(self):\n",
    "        super().__init__()\n",
    "        encoding_dim = 49\n",
    "        \n",
    "        self.encoder1 = nn.Linear(28*28, encoding_dim*3)\n",
    "        self.relu1 = nn.ReLU()\n",
    "        self.encoder2 = nn.Linear(encoding_dim*3, encoding_dim*2)\n",
    "        self.relu2 = nn.ReLU()\n",
    "        self.encoder = nn.Linear(encoding_dim*2, encoding_dim)\n",
    "        \n",
    "        self.decoder1 = nn.Linear(encoding_dim, encoding_dim*2)\n",
    "        self.drelu1 = nn.ReLU()\n",
    "        self.decoder2 = nn.Linear(encoding_dim*2, encoding_dim*3)\n",
    "        self.drelu2 = nn.ReLU()\n",
    "        self.decoder = nn.Linear(encoding_dim*3, 28*28)\n",
    "        \n",
    "    def forward(self, x):\n",
    "        x = x.view(-1, 28*28)\n",
    "        x = self.relu1(self.encoder1(x))\n",
    "        x = self.relu2(self.encoder2(x))\n",
    "        code = self.encoder(x)\n",
    "        \n",
    "        x = self.drelu1(self.decoder1(code))\n",
    "        x = self.drelu2(self.decoder2(x))\n",
    "        decoded = self.decoder(x)\n",
    "        \n",
    "        return decoded.view(-1, 1, 28, 28)\n",
    "    \n",
    "    def count_parameters(self, module=None):\n",
    "        if module is None:\n",
    "            module = self\n",
    "        return sum(p.numel() for p in module.parameters() if p.requires_grad)\n",
    "    \n",
    "model = DenseAEDeep()\n",
    "if use_cuda:\n",
    "    model = model.cuda()\n",
    "print(model.count_parameters())"
   ]
  },
  {
   "cell_type": "code",
   "execution_count": 119,
   "metadata": {},
   "outputs": [
    {
     "name": "stdout",
     "output_type": "stream",
     "text": [
      "146442\n"
     ]
    }
   ],
   "source": [
    "class ConvAE(nn.Module):\n",
    "    def __init__(self):\n",
    "        super().__init__()\n",
    "        encoding_dim = 49\n",
    "        \n",
    "        self.encoder = nn.Sequential(\n",
    "            nn.Conv2d(1, 90, 3, padding=1),\n",
    "            nn.ReLU(True),\n",
    "            nn.MaxPool2d(2),\n",
    "            nn.Conv2d(90, 32, 5, padding=2),\n",
    "            nn.ReLU(True),\n",
    "            nn.MaxPool2d(2),\n",
    "            nn.Conv2d(32, 1, 3, padding=1),\n",
    "            nn.ReLU(True)\n",
    "        )\n",
    "\n",
    "        self.decoder = nn.Sequential(\n",
    "            nn.Conv2d(1, 32, 3, padding=1),\n",
    "            nn.ReLU(True),\n",
    "            nn.Upsample(scale_factor=(2, 2)),\n",
    "            nn.Conv2d(32, 90, 5, padding=2),\n",
    "            nn.ReLU(True),\n",
    "            nn.Upsample(scale_factor=(2, 2)),\n",
    "            nn.Conv2d(90, 1, 3, padding=1),\n",
    "        )\n",
    "\n",
    "\n",
    "    def forward(self, x):\n",
    "        code = self.encoder(x)\n",
    "        return self.decoder(code)\n",
    "\n",
    "    \n",
    "    def count_parameters(self, module=None):\n",
    "        if module is None:\n",
    "            module = self\n",
    "        return sum(p.numel() for p in module.parameters() if p.requires_grad)\n",
    "    \n",
    "model = ConvAE()\n",
    "if use_cuda:\n",
    "    model = model.cuda()\n",
    "print(model.count_parameters())"
   ]
  },
  {
   "cell_type": "code",
   "execution_count": 120,
   "metadata": {},
   "outputs": [
    {
     "name": "stdout",
     "output_type": "stream",
     "text": [
      "<class '__main__.ConvAE'> 146442\n"
     ]
    }
   ],
   "source": [
    "print(model.__class__, model.count_parameters())\n",
    "optimizer = optim.Adam(model.parameters())\n",
    "criterion = nn.BCEWithLogitsLoss()"
   ]
  },
  {
   "cell_type": "code",
   "execution_count": 35,
   "metadata": {},
   "outputs": [
    {
     "name": "stdout",
     "output_type": "stream",
     "text": [
      "total training batches: 235\n",
      "total testing batches: 40\n"
     ]
    }
   ],
   "source": [
    "epochs = 50\n",
    "batch_size = 256\n",
    "\n",
    "train_loader = torch.utils.data.DataLoader(\n",
    "                 dataset=train_set,\n",
    "                 batch_size=batch_size,\n",
    "                 shuffle=True)\n",
    "test_loader = torch.utils.data.DataLoader(\n",
    "                dataset=test_set,\n",
    "                batch_size=batch_size,\n",
    "                shuffle=False)\n",
    "\n",
    "print('total training batches: {}'.format(len(train_loader)))\n",
    "print('total testing batches: {}'.format(len(test_loader)))"
   ]
  },
  {
   "cell_type": "code",
   "execution_count": 26,
   "metadata": {},
   "outputs": [],
   "source": [
    "def noise(x, factor=0.5):\n",
    "    n = torch.zeros(x.size())\n",
    "    n.normal_(0.5, factor)\n",
    "    x = x + n\n",
    "    return x.clamp(0,1)"
   ]
  },
  {
   "cell_type": "code",
   "execution_count": 36,
   "metadata": {},
   "outputs": [],
   "source": [
    "def test(model, test_loader, epoch):\n",
    "    model.eval()\n",
    "    with torch.no_grad():\n",
    "        test_loss = []\n",
    "        for batch_idx, (x, target) in enumerate(test_loader):\n",
    "            target = x\n",
    "            if use_cuda:\n",
    "                x, target = x.cuda(), target.cuda()\n",
    "            out = model(x)\n",
    "            loss = criterion(out, target)\n",
    "            test_loss.append(loss.cpu().item())\n",
    "    model.train()\n",
    "    return np.mean(test_loss)"
   ]
  },
  {
   "cell_type": "code",
   "execution_count": 28,
   "metadata": {},
   "outputs": [],
   "source": [
    "# for param_group in optimizer.param_groups:\n",
    "#         param_group['lr'] = 0.0001"
   ]
  },
  {
   "cell_type": "code",
   "execution_count": 29,
   "metadata": {},
   "outputs": [],
   "source": [
    "import warnings\n",
    "warnings.filterwarnings(\"ignore\")"
   ]
  },
  {
   "cell_type": "code",
   "execution_count": 123,
   "metadata": {
    "scrolled": true
   },
   "outputs": [
    {
     "name": "stdout",
     "output_type": "stream",
     "text": [
      "<class '__main__.ConvAE'> 146442\n",
      "epoch 0, train loss 0.0957\n",
      "epoch 0, train loss 0.0949\n",
      "epoch 0, train loss 0.0937\n",
      "epoch 0, train loss 0.0931\n",
      "epoch 0, train loss 0.0925\n",
      "epoch 0, train loss 0.0919\n",
      "epoch 0, train loss 0.0915\n",
      "epoch 0, train loss 0.0910\n",
      "epoch 0, train loss 0.0906\n",
      "epoch 0, train loss 0.0903\n",
      "epoch 0, train loss 0.0900\n",
      "epoch 0, train loss 0.0898\n",
      "epoch 0, train loss 0.0898, test loss 0.0846, time 15.8s\n",
      "epoch 1, train loss 0.0854\n",
      "epoch 1, train loss 0.0855\n",
      "epoch 1, train loss 0.0855\n",
      "epoch 1, train loss 0.0854\n",
      "epoch 1, train loss 0.0854\n",
      "epoch 1, train loss 0.0851\n",
      "epoch 1, train loss 0.0849\n",
      "epoch 1, train loss 0.0847\n",
      "epoch 1, train loss 0.0846\n",
      "epoch 1, train loss 0.0844\n",
      "epoch 1, train loss 0.0843\n",
      "epoch 1, train loss 0.0842\n",
      "epoch 1, train loss 0.0842, test loss 0.0816, time 15.6s\n",
      "epoch 2, train loss 0.0828\n",
      "epoch 2, train loss 0.0828\n",
      "epoch 2, train loss 0.0826\n",
      "epoch 2, train loss 0.0824\n",
      "epoch 2, train loss 0.0822\n",
      "epoch 2, train loss 0.0822\n",
      "epoch 2, train loss 0.0821\n",
      "epoch 2, train loss 0.0821\n",
      "epoch 2, train loss 0.0821\n",
      "epoch 2, train loss 0.0819\n",
      "epoch 2, train loss 0.0819\n",
      "epoch 2, train loss 0.0818\n",
      "epoch 2, train loss 0.0818, test loss 0.0799, time 15.7s\n",
      "epoch 3, train loss 0.0810\n",
      "epoch 3, train loss 0.0810\n",
      "epoch 3, train loss 0.0808\n",
      "epoch 3, train loss 0.0809\n",
      "epoch 3, train loss 0.0808\n",
      "epoch 3, train loss 0.0807\n",
      "epoch 3, train loss 0.0806\n",
      "epoch 3, train loss 0.0805\n",
      "epoch 3, train loss 0.0805\n",
      "epoch 3, train loss 0.0804\n",
      "epoch 3, train loss 0.0804\n",
      "epoch 3, train loss 0.0804\n",
      "epoch 3, train loss 0.0804, test loss 0.0789, time 15.7s\n",
      "epoch 4, train loss 0.0799\n",
      "epoch 4, train loss 0.0800\n",
      "epoch 4, train loss 0.0799\n",
      "epoch 4, train loss 0.0797\n",
      "epoch 4, train loss 0.0796\n",
      "epoch 4, train loss 0.0795\n",
      "epoch 4, train loss 0.0794\n",
      "epoch 4, train loss 0.0793\n",
      "epoch 4, train loss 0.0793\n",
      "epoch 4, train loss 0.0793\n",
      "epoch 4, train loss 0.0794\n",
      "epoch 4, train loss 0.0794\n",
      "epoch 4, train loss 0.0794, test loss 0.0785, time 16.1s\n",
      "epoch 5, train loss 0.0790\n",
      "epoch 5, train loss 0.0789\n",
      "epoch 5, train loss 0.0786\n",
      "epoch 5, train loss 0.0786\n",
      "epoch 5, train loss 0.0786\n",
      "epoch 5, train loss 0.0786\n",
      "epoch 5, train loss 0.0785\n",
      "epoch 5, train loss 0.0785\n",
      "epoch 5, train loss 0.0785\n",
      "epoch 5, train loss 0.0785\n",
      "epoch 5, train loss 0.0785\n",
      "epoch 5, train loss 0.0785\n",
      "epoch 5, train loss 0.0785, test loss 0.0770, time 16.1s\n",
      "epoch 6, train loss 0.0778\n",
      "epoch 6, train loss 0.0778\n",
      "epoch 6, train loss 0.0778\n",
      "epoch 6, train loss 0.0779\n",
      "epoch 6, train loss 0.0780\n",
      "epoch 6, train loss 0.0780\n",
      "epoch 6, train loss 0.0779\n",
      "epoch 6, train loss 0.0780\n",
      "epoch 6, train loss 0.0780\n",
      "epoch 6, train loss 0.0779\n",
      "epoch 6, train loss 0.0779\n",
      "epoch 6, train loss 0.0779\n",
      "epoch 6, train loss 0.0779, test loss 0.0765, time 16.1s\n",
      "epoch 7, train loss 0.0774\n",
      "epoch 7, train loss 0.0776\n",
      "epoch 7, train loss 0.0774\n",
      "epoch 7, train loss 0.0775\n",
      "epoch 7, train loss 0.0775\n",
      "epoch 7, train loss 0.0774\n",
      "epoch 7, train loss 0.0775\n",
      "epoch 7, train loss 0.0775\n",
      "epoch 7, train loss 0.0774\n",
      "epoch 7, train loss 0.0774\n",
      "epoch 7, train loss 0.0773\n",
      "epoch 7, train loss 0.0774\n",
      "epoch 7, train loss 0.0774, test loss 0.0768, time 16.1s\n",
      "epoch 8, train loss 0.0772\n",
      "epoch 8, train loss 0.0771\n",
      "epoch 8, train loss 0.0772\n",
      "epoch 8, train loss 0.0771\n",
      "epoch 8, train loss 0.0771\n",
      "epoch 8, train loss 0.0769\n",
      "epoch 8, train loss 0.0769\n",
      "epoch 8, train loss 0.0769\n",
      "epoch 8, train loss 0.0770\n",
      "epoch 8, train loss 0.0770\n",
      "epoch 8, train loss 0.0770\n",
      "epoch 8, train loss 0.0769\n",
      "epoch 8, train loss 0.0769, test loss 0.0757, time 16.1s\n",
      "epoch 9, train loss 0.0764\n",
      "epoch 9, train loss 0.0765\n",
      "epoch 9, train loss 0.0766\n",
      "epoch 9, train loss 0.0766\n",
      "epoch 9, train loss 0.0765\n",
      "epoch 9, train loss 0.0765\n",
      "epoch 9, train loss 0.0764\n",
      "epoch 9, train loss 0.0764\n",
      "epoch 9, train loss 0.0764\n",
      "epoch 9, train loss 0.0765\n",
      "epoch 9, train loss 0.0765\n",
      "epoch 9, train loss 0.0765\n",
      "epoch 9, train loss 0.0765, test loss 0.0752, time 16.1s\n",
      "epoch 10, train loss 0.0762\n",
      "epoch 10, train loss 0.0762\n",
      "epoch 10, train loss 0.0762\n",
      "epoch 10, train loss 0.0761\n",
      "epoch 10, train loss 0.0761\n",
      "epoch 10, train loss 0.0760\n",
      "epoch 10, train loss 0.0761\n",
      "epoch 10, train loss 0.0761\n",
      "epoch 10, train loss 0.0761\n",
      "epoch 10, train loss 0.0761\n",
      "epoch 10, train loss 0.0761\n",
      "epoch 10, train loss 0.0761\n",
      "epoch 10, train loss 0.0761, test loss 0.0749, time 16.5s\n",
      "epoch 11, train loss 0.0755\n",
      "epoch 11, train loss 0.0755\n",
      "epoch 11, train loss 0.0761\n",
      "epoch 11, train loss 0.0761\n",
      "epoch 11, train loss 0.0761\n",
      "epoch 11, train loss 0.0760\n",
      "epoch 11, train loss 0.0759\n",
      "epoch 11, train loss 0.0758\n",
      "epoch 11, train loss 0.0758\n",
      "epoch 11, train loss 0.0759\n",
      "epoch 11, train loss 0.0759\n",
      "epoch 11, train loss 0.0758\n",
      "epoch 11, train loss 0.0758, test loss 0.0746, time 16.0s\n",
      "epoch 12, train loss 0.0752\n",
      "epoch 12, train loss 0.0755\n",
      "epoch 12, train loss 0.0756\n",
      "epoch 12, train loss 0.0756\n",
      "epoch 12, train loss 0.0755\n",
      "epoch 12, train loss 0.0754\n",
      "epoch 12, train loss 0.0755\n",
      "epoch 12, train loss 0.0756\n",
      "epoch 12, train loss 0.0755\n",
      "epoch 12, train loss 0.0755\n",
      "epoch 12, train loss 0.0755\n",
      "epoch 12, train loss 0.0755\n",
      "epoch 12, train loss 0.0755, test loss 0.0751, time 16.0s\n",
      "epoch 13, train loss 0.0752\n",
      "epoch 13, train loss 0.0753\n",
      "epoch 13, train loss 0.0753\n",
      "epoch 13, train loss 0.0752\n",
      "epoch 13, train loss 0.0752\n",
      "epoch 13, train loss 0.0752\n",
      "epoch 13, train loss 0.0753\n",
      "epoch 13, train loss 0.0753\n",
      "epoch 13, train loss 0.0753\n",
      "epoch 13, train loss 0.0753\n",
      "epoch 13, train loss 0.0752\n",
      "epoch 13, train loss 0.0752\n",
      "epoch 13, train loss 0.0752, test loss 0.0740, time 16.1s\n",
      "epoch 14, train loss 0.0750\n",
      "epoch 14, train loss 0.0754\n",
      "epoch 14, train loss 0.0753\n",
      "epoch 14, train loss 0.0752\n",
      "epoch 14, train loss 0.0751\n",
      "epoch 14, train loss 0.0751\n",
      "epoch 14, train loss 0.0751\n",
      "epoch 14, train loss 0.0752\n",
      "epoch 14, train loss 0.0751\n",
      "epoch 14, train loss 0.0751\n",
      "epoch 14, train loss 0.0751\n",
      "epoch 14, train loss 0.0751\n",
      "epoch 14, train loss 0.0751, test loss 0.0745, time 16.6s\n",
      "epoch 15, train loss 0.0748\n",
      "epoch 15, train loss 0.0748\n",
      "epoch 15, train loss 0.0749\n",
      "epoch 15, train loss 0.0748\n",
      "epoch 15, train loss 0.0748\n",
      "epoch 15, train loss 0.0749\n",
      "epoch 15, train loss 0.0748\n",
      "epoch 15, train loss 0.0748\n",
      "epoch 15, train loss 0.0748\n",
      "epoch 15, train loss 0.0748\n",
      "epoch 15, train loss 0.0749\n",
      "epoch 15, train loss 0.0748\n",
      "epoch 15, train loss 0.0748, test loss 0.0739, time 16.2s\n",
      "epoch 16, train loss 0.0745\n",
      "epoch 16, train loss 0.0745\n",
      "epoch 16, train loss 0.0745\n",
      "epoch 16, train loss 0.0744\n",
      "epoch 16, train loss 0.0745\n",
      "epoch 16, train loss 0.0748\n",
      "epoch 16, train loss 0.0747\n",
      "epoch 16, train loss 0.0747\n",
      "epoch 16, train loss 0.0746\n",
      "epoch 16, train loss 0.0746\n",
      "epoch 16, train loss 0.0745\n",
      "epoch 16, train loss 0.0745\n",
      "epoch 16, train loss 0.0745, test loss 0.0735, time 17.3s\n",
      "epoch 17, train loss 0.0747\n",
      "epoch 17, train loss 0.0747\n",
      "epoch 17, train loss 0.0746\n",
      "epoch 17, train loss 0.0745\n",
      "epoch 17, train loss 0.0745\n",
      "epoch 17, train loss 0.0745\n",
      "epoch 17, train loss 0.0745\n",
      "epoch 17, train loss 0.0745\n",
      "epoch 17, train loss 0.0745\n",
      "epoch 17, train loss 0.0744\n",
      "epoch 17, train loss 0.0744\n",
      "epoch 17, train loss 0.0744\n",
      "epoch 17, train loss 0.0744, test loss 0.0740, time 16.9s\n",
      "epoch 18, train loss 0.0737\n",
      "epoch 18, train loss 0.0741\n",
      "epoch 18, train loss 0.0742\n",
      "epoch 18, train loss 0.0742\n",
      "epoch 18, train loss 0.0742\n",
      "epoch 18, train loss 0.0743\n",
      "epoch 18, train loss 0.0742\n",
      "epoch 18, train loss 0.0743\n",
      "epoch 18, train loss 0.0743\n",
      "epoch 18, train loss 0.0742\n",
      "epoch 18, train loss 0.0742\n",
      "epoch 18, train loss 0.0742\n",
      "epoch 18, train loss 0.0742, test loss 0.0755, time 17.2s\n",
      "epoch 19, train loss 0.0743\n",
      "epoch 19, train loss 0.0742\n",
      "epoch 19, train loss 0.0742\n",
      "epoch 19, train loss 0.0742\n",
      "epoch 19, train loss 0.0741\n",
      "epoch 19, train loss 0.0740\n",
      "epoch 19, train loss 0.0741\n",
      "epoch 19, train loss 0.0741\n",
      "epoch 19, train loss 0.0741\n",
      "epoch 19, train loss 0.0741\n",
      "epoch 19, train loss 0.0741\n",
      "epoch 19, train loss 0.0742\n",
      "epoch 19, train loss 0.0742, test loss 0.0735, time 16.9s\n",
      "epoch 20, train loss 0.0740\n",
      "epoch 20, train loss 0.0739\n",
      "epoch 20, train loss 0.0739\n",
      "epoch 20, train loss 0.0738\n",
      "epoch 20, train loss 0.0737\n",
      "epoch 20, train loss 0.0738\n",
      "epoch 20, train loss 0.0739\n",
      "epoch 20, train loss 0.0739\n",
      "epoch 20, train loss 0.0739\n",
      "epoch 20, train loss 0.0739\n",
      "epoch 20, train loss 0.0739\n",
      "epoch 20, train loss 0.0739\n",
      "epoch 20, train loss 0.0739, test loss 0.0729, time 17.0s\n",
      "epoch 21, train loss 0.0736\n"
     ]
    },
    {
     "name": "stdout",
     "output_type": "stream",
     "text": [
      "epoch 21, train loss 0.0736\n",
      "epoch 21, train loss 0.0736\n",
      "epoch 21, train loss 0.0739\n",
      "epoch 21, train loss 0.0739\n",
      "epoch 21, train loss 0.0738\n",
      "epoch 21, train loss 0.0738\n",
      "epoch 21, train loss 0.0737\n",
      "epoch 21, train loss 0.0737\n",
      "epoch 21, train loss 0.0737\n",
      "epoch 21, train loss 0.0737\n",
      "epoch 21, train loss 0.0737\n",
      "epoch 21, train loss 0.0737, test loss 0.0731, time 16.9s\n",
      "epoch 22, train loss 0.0736\n",
      "epoch 22, train loss 0.0739\n"
     ]
    },
    {
     "ename": "KeyboardInterrupt",
     "evalue": "",
     "output_type": "error",
     "traceback": [
      "\u001b[0;31m---------------------------------------------------------------------------\u001b[0m",
      "\u001b[0;31mKeyboardInterrupt\u001b[0m                         Traceback (most recent call last)",
      "\u001b[0;32m<timed exec>\u001b[0m in \u001b[0;36m<module>\u001b[0;34m()\u001b[0m\n",
      "\u001b[0;32m~/.mlenv/lib/python3.6/site-packages/torch/nn/modules/module.py\u001b[0m in \u001b[0;36m__call__\u001b[0;34m(self, *input, **kwargs)\u001b[0m\n\u001b[1;32m    475\u001b[0m             \u001b[0mresult\u001b[0m \u001b[0;34m=\u001b[0m \u001b[0mself\u001b[0m\u001b[0;34m.\u001b[0m\u001b[0m_slow_forward\u001b[0m\u001b[0;34m(\u001b[0m\u001b[0;34m*\u001b[0m\u001b[0minput\u001b[0m\u001b[0;34m,\u001b[0m \u001b[0;34m**\u001b[0m\u001b[0mkwargs\u001b[0m\u001b[0;34m)\u001b[0m\u001b[0;34m\u001b[0m\u001b[0m\n\u001b[1;32m    476\u001b[0m         \u001b[0;32melse\u001b[0m\u001b[0;34m:\u001b[0m\u001b[0;34m\u001b[0m\u001b[0m\n\u001b[0;32m--> 477\u001b[0;31m             \u001b[0mresult\u001b[0m \u001b[0;34m=\u001b[0m \u001b[0mself\u001b[0m\u001b[0;34m.\u001b[0m\u001b[0mforward\u001b[0m\u001b[0;34m(\u001b[0m\u001b[0;34m*\u001b[0m\u001b[0minput\u001b[0m\u001b[0;34m,\u001b[0m \u001b[0;34m**\u001b[0m\u001b[0mkwargs\u001b[0m\u001b[0;34m)\u001b[0m\u001b[0;34m\u001b[0m\u001b[0m\n\u001b[0m\u001b[1;32m    478\u001b[0m         \u001b[0;32mfor\u001b[0m \u001b[0mhook\u001b[0m \u001b[0;32min\u001b[0m \u001b[0mself\u001b[0m\u001b[0;34m.\u001b[0m\u001b[0m_forward_hooks\u001b[0m\u001b[0;34m.\u001b[0m\u001b[0mvalues\u001b[0m\u001b[0;34m(\u001b[0m\u001b[0;34m)\u001b[0m\u001b[0;34m:\u001b[0m\u001b[0;34m\u001b[0m\u001b[0m\n\u001b[1;32m    479\u001b[0m             \u001b[0mhook_result\u001b[0m \u001b[0;34m=\u001b[0m \u001b[0mhook\u001b[0m\u001b[0;34m(\u001b[0m\u001b[0mself\u001b[0m\u001b[0;34m,\u001b[0m \u001b[0minput\u001b[0m\u001b[0;34m,\u001b[0m \u001b[0mresult\u001b[0m\u001b[0;34m)\u001b[0m\u001b[0;34m\u001b[0m\u001b[0m\n",
      "\u001b[0;32m~/.mlenv/lib/python3.6/site-packages/torch/nn/modules/loss.py\u001b[0m in \u001b[0;36mforward\u001b[0;34m(self, input, target)\u001b[0m\n\u001b[1;32m    571\u001b[0m                                                   \u001b[0mself\u001b[0m\u001b[0;34m.\u001b[0m\u001b[0mweight\u001b[0m\u001b[0;34m,\u001b[0m\u001b[0;34m\u001b[0m\u001b[0m\n\u001b[1;32m    572\u001b[0m                                                   \u001b[0mpos_weight\u001b[0m\u001b[0;34m=\u001b[0m\u001b[0mself\u001b[0m\u001b[0;34m.\u001b[0m\u001b[0mpos_weight\u001b[0m\u001b[0;34m,\u001b[0m\u001b[0;34m\u001b[0m\u001b[0m\n\u001b[0;32m--> 573\u001b[0;31m                                                   reduction=self.reduction)\n\u001b[0m\u001b[1;32m    574\u001b[0m \u001b[0;34m\u001b[0m\u001b[0m\n\u001b[1;32m    575\u001b[0m \u001b[0;34m\u001b[0m\u001b[0m\n",
      "\u001b[0;32m~/.mlenv/lib/python3.6/site-packages/torch/nn/functional.py\u001b[0m in \u001b[0;36mbinary_cross_entropy_with_logits\u001b[0;34m(input, target, weight, size_average, reduce, reduction, pos_weight)\u001b[0m\n\u001b[1;32m   1660\u001b[0m         \u001b[0;32mreturn\u001b[0m \u001b[0mloss\u001b[0m\u001b[0;34m\u001b[0m\u001b[0m\n\u001b[1;32m   1661\u001b[0m     \u001b[0;32melif\u001b[0m \u001b[0mreduction\u001b[0m \u001b[0;34m==\u001b[0m \u001b[0;34m'elementwise_mean'\u001b[0m\u001b[0;34m:\u001b[0m\u001b[0;34m\u001b[0m\u001b[0m\n\u001b[0;32m-> 1662\u001b[0;31m         \u001b[0;32mreturn\u001b[0m \u001b[0mloss\u001b[0m\u001b[0;34m.\u001b[0m\u001b[0mmean\u001b[0m\u001b[0;34m(\u001b[0m\u001b[0;34m)\u001b[0m\u001b[0;34m\u001b[0m\u001b[0m\n\u001b[0m\u001b[1;32m   1663\u001b[0m     \u001b[0;32melse\u001b[0m\u001b[0;34m:\u001b[0m\u001b[0;34m\u001b[0m\u001b[0m\n\u001b[1;32m   1664\u001b[0m         \u001b[0;32mreturn\u001b[0m \u001b[0mloss\u001b[0m\u001b[0;34m.\u001b[0m\u001b[0msum\u001b[0m\u001b[0;34m(\u001b[0m\u001b[0;34m)\u001b[0m\u001b[0;34m\u001b[0m\u001b[0m\n",
      "\u001b[0;31mKeyboardInterrupt\u001b[0m: "
     ]
    }
   ],
   "source": [
    "%%time\n",
    "# train\n",
    "print(model.__class__, model.count_parameters())\n",
    "for epoch in range(epochs):\n",
    "    dt = time()\n",
    "    train_loss = []\n",
    "    for batch_idx, (x, target) in enumerate(train_loader):\n",
    "        target = x\n",
    "        optimizer.zero_grad()\n",
    "        if use_cuda:\n",
    "            x, target = x.cuda(), target.cuda()\n",
    "        out = model(x)\n",
    "        loss = criterion(out, target)\n",
    "        loss.backward()\n",
    "        optimizer.step()\n",
    "        train_loss.append(loss.cpu().item())\n",
    "        if (batch_idx+1) % 20 == 0 or (batch_idx+1) == len(train_loader):\n",
    "            print('epoch %d, train loss %.4f' % (epoch, np.mean(train_loss)))\n",
    "    test_loss = test(model, test_loader, epoch)\n",
    "    train_loss = np.mean(train_loss)\n",
    "    print('epoch %d, train loss %.4f, test loss %.4f, time %3.1fs' % (epoch, train_loss, test_loss, time()-dt))\n",
    "    "
   ]
  },
  {
   "cell_type": "code",
   "execution_count": 124,
   "metadata": {},
   "outputs": [
    {
     "data": {
      "text/plain": [
       "0.07286475673317909"
      ]
     },
     "execution_count": 124,
     "metadata": {},
     "output_type": "execute_result"
    }
   ],
   "source": [
    "test(model, test_loader, epoch)"
   ]
  },
  {
   "cell_type": "code",
   "execution_count": 158,
   "metadata": {},
   "outputs": [],
   "source": [
    "torch.save(model.state_dict(), 'convAE_params146442_loss07286.pth')"
   ]
  },
  {
   "cell_type": "code",
   "execution_count": 159,
   "metadata": {},
   "outputs": [
    {
     "data": {
      "image/png": "[encoded data removed]",
      "text/plain": [
       "<Figure size 1440x288 with 20 Axes>"
      ]
     },
     "metadata": {},
     "output_type": "display_data"
    }
   ],
   "source": [
    "n = 10\n",
    "imgs = [t for t,l in test_set][:10]\n",
    "draw(imgs)"
   ]
  },
  {
   "cell_type": "code",
   "execution_count": 140,
   "metadata": {},
   "outputs": [
    {
     "data": {
      "image/png": "[encoded data removed]",
      "text/plain": [
       "<Figure size 1440x144 with 10 Axes>"
      ]
     },
     "metadata": {},
     "output_type": "display_data"
    }
   ],
   "source": [
    "frm, to = [t for t,l in test_set if l==8][1:3]\n",
    "plot_homotopy(frm, to)"
   ]
  },
  {
   "cell_type": "code",
   "execution_count": 161,
   "metadata": {},
   "outputs": [
    {
     "data": {
      "text/plain": [
       "torch.Size([2, 1, 7, 7])"
      ]
     },
     "execution_count": 161,
     "metadata": {},
     "output_type": "execute_result"
    }
   ],
   "source": [
    "x = torch.cat([frm,to]).unsqueeze(1).cuda()\n",
    "codes = model.encoder(x)\n",
    "codes.size()"
   ]
  },
  {
   "cell_type": "code",
   "execution_count": 162,
   "metadata": {},
   "outputs": [
    {
     "data": {
      "image/png": "[encoded data removed]",
      "text/plain": [
       "<Figure size 1440x144 with 10 Axes>"
      ]
     },
     "metadata": {},
     "output_type": "display_data"
    }
   ],
   "source": [
    "plot_homotopy(codes[0], codes[1], n=10, decoder=model.decoder)"
   ]
  },
  {
   "cell_type": "code",
   "execution_count": 143,
   "metadata": {},
   "outputs": [
    {
     "data": {
      "text/plain": [
       "torch.Size([10000, 1, 28, 28])"
      ]
     },
     "execution_count": 143,
     "metadata": {},
     "output_type": "execute_result"
    }
   ],
   "source": [
    "x_test = torch.cat([t for t,l in test_set]).unsqueeze(1).cuda()\n",
    "x_test.size()"
   ]
  },
  {
   "cell_type": "code",
   "execution_count": 151,
   "metadata": {},
   "outputs": [
    {
     "data": {
      "text/plain": [
       "(10000, 49)"
      ]
     },
     "execution_count": 151,
     "metadata": {},
     "output_type": "execute_result"
    }
   ],
   "source": [
    "# codes = model.encoder(x_test)\n",
    "codes = codes.cpu().view(-1,49).detach().numpy()\n",
    "codes.shape"
   ]
  },
  {
   "cell_type": "code",
   "execution_count": 157,
   "metadata": {},
   "outputs": [
    {
     "data": {
      "text/plain": [
       "<seaborn.axisgrid.JointGrid at 0x7fb5dc35a5f8>"
      ]
     },
     "execution_count": 157,
     "metadata": {},
     "output_type": "execute_result"
    },
    {
     "data": {
      "image/png": "[encoded data removed]",
      "text/plain": [
       "<Figure size 432x432 with 3 Axes>"
      ]
     },
     "metadata": {},
     "output_type": "display_data"
    }
   ],
   "source": [
    "sns.jointplot(codes[:,1], codes[:,3])"
   ]
  }
 ],
 "metadata": {
  "kernelspec": {
   "display_name": "Python 3",
   "language": "python",
   "name": "python3"
  },
  "language_info": {
   "codemirror_mode": {
    "name": "ipython",
    "version": 3
   },
   "file_extension": ".py",
   "mimetype": "text/x-python",
   "name": "python",
   "nbconvert_exporter": "python",
   "pygments_lexer": "ipython3",
   "version": "3.6.5"
  }
 },
 "nbformat": 4,
 "nbformat_minor": 2
}
