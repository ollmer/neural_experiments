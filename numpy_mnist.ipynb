{
 "cells": [
  {
   "cell_type": "code",
   "execution_count": 1,
   "metadata": {},
   "outputs": [],
   "source": [
    "import numpy as np\n",
    "\n",
    "from copy import deepcopy\n",
    "import os\n",
    "import struct\n",
    "\n",
    "from matplotlib import pyplot\n",
    "import matplotlib as mpl\n",
    "%matplotlib inline"
   ]
  },
  {
   "cell_type": "code",
   "execution_count": 2,
   "metadata": {},
   "outputs": [],
   "source": [
    "class Loss:\n",
    "    \n",
    "    def predict(self, h):\n",
    "        pass\n",
    "    \n",
    "    def calculate_loss(self, h, target):\n",
    "        pass\n",
    "\n",
    "    \n",
    "class SoftmaxLoss(Loss):\n",
    "\n",
    "    def predict(self, h):\n",
    "        return self.softmax(h)\n",
    "    \n",
    "    def softmax(self, h):\n",
    "        hmax = np.expand_dims(np.max(h, axis=1),1)\n",
    "        ex = np.exp(h - hmax) # normalize to avoid int overflow\n",
    "        sm = ex / ex.sum(axis=1, keepdims=1)\n",
    "        return sm\n",
    "\n",
    "    def calculate_loss(self, h, target):\n",
    "        rows = h.shape[0]\n",
    "        probabilities = self.softmax(h)\n",
    "        loss = np.sum(-np.log(probabilities[range(rows), target])) / rows\n",
    "        dx = probabilities\n",
    "        dx[range(rows), target] -= 1\n",
    "        dx /= rows\n",
    "        return (loss, dx)"
   ]
  },
  {
   "cell_type": "code",
   "execution_count": 3,
   "metadata": {},
   "outputs": [],
   "source": [
    "class Layer:\n",
    "    \n",
    "    def forward_pass(self, x):\n",
    "        pass\n",
    "    \n",
    "    def backward_pass(self, deriv):\n",
    "        pass\n",
    "    \n",
    "    def update(self, dx, db):\n",
    "        pass\n",
    "    \n",
    "    \n",
    "class DenseLayer(Layer):\n",
    "\n",
    "    def __init__(self, inputs, size):\n",
    "        he_stdev = np.sqrt(2/inputs)\n",
    "        self.w = np.random.normal(0, he_stdev, (inputs, size))\n",
    "        self.b = np.zeros(size)\n",
    "\n",
    "    def forward_pass(self, x):\n",
    "        self.last_x = x\n",
    "        out = np.dot(x, self.w) + self.b\n",
    "        return out\n",
    "\n",
    "    def backward_pass(self, deriv):\n",
    "        x = self.last_x\n",
    "        dx = np.dot(deriv, self.w.T)\n",
    "        dw = np.dot(x.T, deriv)\n",
    "        db = np.sum(deriv, axis=0, keepdims=True)\n",
    "        return dx, dw, db\n",
    "    \n",
    "    def update(self, dw, db):\n",
    "        self.w += dw\n",
    "        self.b += db.flatten()"
   ]
  },
  {
   "cell_type": "code",
   "execution_count": 4,
   "metadata": {},
   "outputs": [],
   "source": [
    "class ReluLayer(Layer):\n",
    "\n",
    "    def forward_pass(self, x):\n",
    "        self.last_x = x\n",
    "        return np.maximum(0, x)\n",
    "\n",
    "    def backward_pass(self, deriv):\n",
    "        dx = deriv\n",
    "        dx[self.last_x <= 0] = 0\n",
    "        return (dx, 0, 0)"
   ]
  },
  {
   "cell_type": "code",
   "execution_count": 5,
   "metadata": {},
   "outputs": [],
   "source": [
    "class Dropout(Layer):\n",
    "    \n",
    "    def __init__(self, keep_probability):\n",
    "        self.keep_probability = keep_probability\n",
    "    \n",
    "    def forward_pass(self, x):\n",
    "        if not self.train:\n",
    "            return x\n",
    "        self.w = np.random.binomial(1, self.keep_probability, x.shape) / self.keep_probability\n",
    "        return x*self.w\n",
    "\n",
    "    def backward_pass(self, deriv):\n",
    "        return (deriv*self.w, 0, 0)"
   ]
  },
  {
   "cell_type": "code",
   "execution_count": 6,
   "metadata": {},
   "outputs": [],
   "source": [
    "class Model:\n",
    "    \n",
    "    def __init__(self, loss, learning_rate = 1e-3):\n",
    "        self.layers = []\n",
    "        self.loss = loss\n",
    "        self.learning_rate = learning_rate\n",
    "        \n",
    "    def add_layer(self, layer):\n",
    "        self.layers.append(layer)\n",
    "        \n",
    "    def forward_pass(self, x, train=False):\n",
    "        for l in self.layers:\n",
    "            l.train = train\n",
    "            x = l.forward_pass(x)\n",
    "        return x\n",
    "    \n",
    "    def backward_pass(self, dy):\n",
    "        for l in reversed(self.layers):\n",
    "            dy, dw, db = l.backward_pass(dy)\n",
    "            l.update(-self.learning_rate*dw, -self.learning_rate*db)\n",
    "      \n",
    "    def predict(self, x):\n",
    "        logits = self.forward_pass(x)\n",
    "        return self.loss.predict(logits)\n",
    "    \n",
    "    def train(self, x, target):\n",
    "        h = self.forward_pass(x, train=True)\n",
    "        loss_value, dy = self.loss.calculate_loss(h, target)\n",
    "        self.backward_pass(dy)\n",
    "        return loss_value"
   ]
  },
  {
   "cell_type": "code",
   "execution_count": 11,
   "metadata": {},
   "outputs": [],
   "source": [
    "# mnist data load, derived from https://gist.github.com/akesling/5358964\n",
    "def read(dataset = \"training\", path = \"../data/mnist/raw\"):\n",
    "    if dataset is \"training\":\n",
    "        fname_img = os.path.join(path, 'train-images-idx3-ubyte')\n",
    "        fname_lbl = os.path.join(path, 'train-labels-idx1-ubyte')\n",
    "    elif dataset is \"testing\":\n",
    "        fname_img = os.path.join(path, 't10k-images-idx3-ubyte')\n",
    "        fname_lbl = os.path.join(path, 't10k-labels-idx1-ubyte')\n",
    "    else:\n",
    "        raise ValueError(\"dataset must be 'testing' or 'training'\")\n",
    "\n",
    "    # Load everything in some numpy arrays\n",
    "    with open(fname_lbl, 'rb') as flbl:\n",
    "        magic, num = struct.unpack(\">II\", flbl.read(8))\n",
    "        lbl = np.fromfile(flbl, dtype=np.int8)\n",
    "\n",
    "    with open(fname_img, 'rb') as fimg:\n",
    "        magic, num, rows, cols = struct.unpack(\">IIII\", fimg.read(16))\n",
    "        img = np.fromfile(fimg, dtype=np.uint8).reshape(len(lbl), rows, cols)\n",
    "\n",
    "    return img, lbl\n",
    "        \n",
    "def show(image):\n",
    "    fig = pyplot.figure(figsize=(1,1))\n",
    "    ax = fig.add_subplot(1,1,1)\n",
    "    imgplot = ax.imshow(image, cmap=mpl.cm.Greys)\n",
    "    pyplot.show()"
   ]
  },
  {
   "cell_type": "code",
   "execution_count": 12,
   "metadata": {},
   "outputs": [],
   "source": [
    "fashion_mnist_names = {\n",
    "    0: 'T-shirt/top',\n",
    "    1: 'Trouser',\n",
    "    2: 'Pullover',\n",
    "    3: 'Dress',\n",
    "    4: 'Coat',\n",
    "    5: 'Sandal',\n",
    "    6: 'Shirt',\n",
    "    7: 'Sneaker',\n",
    "    8: 'Bag',\n",
    "    9: 'Ankle boot'\n",
    "}"
   ]
  },
  {
   "cell_type": "code",
   "execution_count": 13,
   "metadata": {},
   "outputs": [],
   "source": [
    "imgs, labels  = read()\n",
    "timgs, tlabels  = read('testing')"
   ]
  },
  {
   "cell_type": "code",
   "execution_count": 14,
   "metadata": {},
   "outputs": [],
   "source": [
    "def shuffle_arrays(a, b):\n",
    "    assert len(a) == len(b)\n",
    "    p = np.random.permutation(len(a))\n",
    "    return a[p], b[p]\n",
    "\n",
    "def train_val_split(a, b, val_size=0.1):\n",
    "    assert len(a) == len(b)\n",
    "    a, b = shuffle_arrays(a, b)\n",
    "    border = int(len(a) * val_size)\n",
    "    return a[border:], b[border:], a[:border], b[:border]"
   ]
  },
  {
   "cell_type": "code",
   "execution_count": 15,
   "metadata": {},
   "outputs": [
    {
     "data": {
      "image/png": "[encoded data removed]",
      "text/plain": [
       "<Figure size 72x72 with 1 Axes>"
      ]
     },
     "metadata": {},
     "output_type": "display_data"
    },
    {
     "name": "stdout",
     "output_type": "stream",
     "text": [
      "6\n"
     ]
    },
    {
     "data": {
      "image/png": "[encoded data removed]",
      "text/plain": [
       "<Figure size 72x72 with 1 Axes>"
      ]
     },
     "metadata": {},
     "output_type": "display_data"
    },
    {
     "name": "stdout",
     "output_type": "stream",
     "text": [
      "2\n"
     ]
    }
   ],
   "source": [
    "train_imgs, train_labels, val_imgs, val_labels = train_val_split(imgs, labels)\n",
    "show(train_imgs[2])\n",
    "print(train_labels[2])\n",
    "show(val_imgs[555])\n",
    "print(val_labels[555])"
   ]
  },
  {
   "cell_type": "code",
   "execution_count": 16,
   "metadata": {},
   "outputs": [],
   "source": [
    "def test(test_model, imgs, labels):\n",
    "    hits = 0\n",
    "    errs = 0\n",
    "    for i in range(len(imgs)):\n",
    "        x = imgs[i].reshape(1,784)/255\n",
    "        y = labels[i]\n",
    "        h = np.argmax(test_model.predict(x), axis=1)\n",
    "        if h[0]==y:\n",
    "            hits += 1\n",
    "        else:\n",
    "            errs += 1\n",
    "    acc = hits / (i + 1)\n",
    "    return acc, errs"
   ]
  },
  {
   "cell_type": "code",
   "execution_count": 17,
   "metadata": {},
   "outputs": [],
   "source": [
    "def eval_model(model, best_acc, best_model):\n",
    "    val_acc, val_err = test(model, val_imgs, val_labels)\n",
    "    if val_acc > best_acc:\n",
    "        best_acc = val_acc\n",
    "        best_model = deepcopy(model)\n",
    "        print('New best val acc %.3f, %d errors' % (val_acc, val_err))\n",
    "    return best_acc, best_model"
   ]
  },
  {
   "cell_type": "code",
   "execution_count": 23,
   "metadata": {},
   "outputs": [],
   "source": [
    "image_size = 28 * 28\n",
    "layer1 = 300\n",
    "output_size = 10\n",
    "\n",
    "learning_rate = 0.1\n",
    "iterations = 15000\n",
    "dropout = 0.5\n",
    "batch_size = 128"
   ]
  },
  {
   "cell_type": "code",
   "execution_count": 26,
   "metadata": {},
   "outputs": [
    {
     "name": "stdout",
     "output_type": "stream",
     "text": [
      "Train on 54000 images\n",
      "iter 1000 loss 0.2086 acc 0.9844\n",
      "iter 2000 loss 0.1691 acc 0.9844\n",
      "New best val acc 0.959, 248 errors\n",
      "iter 3000 loss 0.1697 acc 0.9688\n",
      "iter 4000 loss 0.2409 acc 0.9766\n",
      "New best val acc 0.969, 188 errors\n",
      "iter 5000 loss 0.1480 acc 0.9688\n",
      "New best val acc 0.972, 171 errors\n",
      "iter 6000 loss 0.1861 acc 0.9688\n",
      "New best val acc 0.975, 150 errors\n",
      "iter 7000 loss 0.0649 acc 1.0000\n",
      "New best val acc 0.975, 148 errors\n",
      "iter 8000 loss 0.0897 acc 0.9922\n",
      "New best val acc 0.979, 127 errors\n",
      "iter 9000 loss 0.0919 acc 0.9922\n",
      "New best val acc 0.979, 125 errors\n",
      "iter 10000 loss 0.0325 acc 1.0000\n",
      "iter 11000 loss 0.1081 acc 0.9844\n",
      "New best val acc 0.980, 119 errors\n",
      "iter 12000 loss 0.0456 acc 1.0000\n",
      "iter 13000 loss 0.1220 acc 0.9844\n",
      "iter 14000 loss 0.0302 acc 0.9844\n",
      "New best val acc 0.982, 109 errors\n",
      "iter 14999 loss 0.0761 acc 0.9922\n"
     ]
    },
    {
     "data": {
      "image/png": "[encoded data removed]",
      "text/plain": [
       "<Figure size 1080x432 with 2 Axes>"
      ]
     },
     "metadata": {},
     "output_type": "display_data"
    },
    {
     "name": "stdout",
     "output_type": "stream",
     "text": [
      "Test accuracy 0.979, 212 errors\n",
      "CPU times: user 8min 8s, sys: 7min 46s, total: 15min 55s\n",
      "Wall time: 2min 2s\n"
     ]
    }
   ],
   "source": [
    "%%time\n",
    "losses = []\n",
    "accuracies = []\n",
    "iterated = 0\n",
    "best_acc = 0\n",
    "best_model = None\n",
    "\n",
    "model = Model(SoftmaxLoss(), learning_rate)\n",
    "model.add_layer(DenseLayer(image_size, layer1))\n",
    "model.add_layer(ReluLayer())\n",
    "model.add_layer(Dropout(dropout))\n",
    "model.add_layer(DenseLayer(layer1, output_size))\n",
    "\n",
    "print(\"Train on %d images\" % len(train_imgs))\n",
    "for c in range(iterations):\n",
    "    i = np.random.randint(0, len(train_imgs) - batch_size)\n",
    "    iterated += batch_size\n",
    "    x = train_imgs[i: i + batch_size].reshape(batch_size, image_size) / 255\n",
    "    y = train_labels[i: i + batch_size]\n",
    "    \n",
    "    loss = model.train(x, y)\n",
    "    losses.append(loss)\n",
    "    \n",
    "    h = np.argmax(model.predict(x), axis=1)\n",
    "    hits = np.count_nonzero(np.equal(h, y))\n",
    "    acc = hits / batch_size\n",
    "    accuracies.append(acc)\n",
    "\n",
    "    if c % 500 == 0 and acc > 0.99:\n",
    "        best_acc, best_model = eval_model(model, best_acc, best_model)\n",
    "    if c and c % 1000 == 0:\n",
    "        print('iter %d loss %.4f acc %.4f' % (c, loss, acc))\n",
    "\n",
    "print('iter %d loss %.4f acc %.4f' % (c, loss, acc))\n",
    "best_acc, best_model = eval_model(model, best_acc, best_model)\n",
    "\n",
    "fig, ax = pyplot.subplots(2,1, figsize=(15, 6))\n",
    "ax[0].plot(losses, color='b', label=\"loss\")\n",
    "ax[1].plot(accuracies, color='g', label=\"accuracy\")\n",
    "legend = ax[0].legend(loc='best')\n",
    "legend = ax[1].legend(loc='best')\n",
    "pyplot.show()\n",
    "test_acc, test_err = test(best_model, timgs, tlabels)\n",
    "print('Test accuracy %.3f, %d errors' % (test_acc, test_err))"
   ]
  }
 ],
 "metadata": {
  "anaconda-cloud": {},
  "kernelspec": {
   "display_name": "Python 3",
   "language": "python",
   "name": "python3"
  },
  "language_info": {
   "codemirror_mode": {
    "name": "ipython",
    "version": 3
   },
   "file_extension": ".py",
   "mimetype": "text/x-python",
   "name": "python",
   "nbconvert_exporter": "python",
   "pygments_lexer": "ipython3",
   "version": "3.6.5"
  }
 },
 "nbformat": 4,
 "nbformat_minor": 1
}
