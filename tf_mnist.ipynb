{
 "cells": [
  {
   "cell_type": "code",
   "execution_count": 1,
   "metadata": {
    "colab": {
     "autoexec": {
      "startup": false,
      "wait_interval": 0
     }
    },
    "colab_type": "code",
    "collapsed": true,
    "id": "xUh7p00QG2bH"
   },
   "outputs": [],
   "source": [
    "import numpy as np\n",
    "import tensorflow as tf\n",
    "\n",
    "import os\n",
    "import struct\n",
    "\n",
    "from sklearn.model_selection import train_test_split\n",
    "from matplotlib import pyplot\n",
    "import matplotlib as mpl\n",
    "%matplotlib inline"
   ]
  },
  {
   "cell_type": "code",
   "execution_count": 37,
   "metadata": {},
   "outputs": [
    {
     "data": {
      "text/plain": [
       "[name: \"/cpu:0\"\n",
       " device_type: \"CPU\"\n",
       " memory_limit: 268435456\n",
       " locality {\n",
       " }\n",
       " incarnation: 16833443894700520526, name: \"/gpu:0\"\n",
       " device_type: \"GPU\"\n",
       " memory_limit: 85527756\n",
       " locality {\n",
       "   bus_id: 1\n",
       " }\n",
       " incarnation: 11107667025013993088\n",
       " physical_device_desc: \"device: 0, name: GeForce GTX 1070, pci bus id: 0000:01:00.0\"]"
      ]
     },
     "execution_count": 37,
     "metadata": {},
     "output_type": "execute_result"
    }
   ],
   "source": [
    "from tensorflow.python.client import device_lib\n",
    "device_lib.list_local_devices()"
   ]
  },
  {
   "cell_type": "code",
   "execution_count": 2,
   "metadata": {
    "colab": {
     "autoexec": {
      "startup": false,
      "wait_interval": 0
     }
    },
    "colab_type": "code",
    "collapsed": true,
    "id": "u4Sl1F_nKBzX"
   },
   "outputs": [],
   "source": [
    "config = tf.ConfigProto()\n",
    "config.gpu_options.allow_growth = True"
   ]
  },
  {
   "cell_type": "code",
   "execution_count": 3,
   "metadata": {
    "colab": {
     "autoexec": {
      "startup": false,
      "wait_interval": 0
     },
     "base_uri": "https://localhost:8080/",
     "height": 84,
     "output_extras": [
      {
       "item_id": 2
      }
     ]
    },
    "colab_type": "code",
    "executionInfo": {
     "elapsed": 946,
     "status": "ok",
     "timestamp": 1517318480219,
     "user": {
      "displayName": "Олег Шляжко",
      "photoUrl": "//lh4.googleusercontent.com/-Elaaq3ASMm4/AAAAAAAAAAI/AAAAAAAAHOM/oXx3UdhG90U/s50-c-k-no/photo.jpg",
      "userId": "111648812276287248102"
     },
     "user_tz": -180
    },
    "id": "nLFdtuoMHNFQ",
    "outputId": "aef54f41-0126-41a6-8856-ca40a7963ee8"
   },
   "outputs": [
    {
     "name": "stdout",
     "output_type": "stream",
     "text": [
      "Extracting MNIST_data\\train-images-idx3-ubyte.gz\n",
      "Extracting MNIST_data\\train-labels-idx1-ubyte.gz\n",
      "Extracting MNIST_data\\t10k-images-idx3-ubyte.gz\n",
      "Extracting MNIST_data\\t10k-labels-idx1-ubyte.gz\n"
     ]
    }
   ],
   "source": [
    "from tensorflow.examples.tutorials.mnist import input_data\n",
    "mnist = input_data.read_data_sets('MNIST_data', one_hot=True)"
   ]
  },
  {
   "cell_type": "code",
   "execution_count": 4,
   "metadata": {
    "colab": {
     "autoexec": {
      "startup": false,
      "wait_interval": 0
     },
     "base_uri": "https://localhost:8080/",
     "height": 227,
     "output_extras": [
      {
       "item_id": 1
      },
      {
       "item_id": 2
      },
      {
       "item_id": 3
      },
      {
       "item_id": 4
      }
     ]
    },
    "colab_type": "code",
    "executionInfo": {
     "elapsed": 733,
     "status": "ok",
     "timestamp": 1517318480971,
     "user": {
      "displayName": "Олег Шляжко",
      "photoUrl": "//lh4.googleusercontent.com/-Elaaq3ASMm4/AAAAAAAAAAI/AAAAAAAAHOM/oXx3UdhG90U/s50-c-k-no/photo.jpg",
      "userId": "111648812276287248102"
     },
     "user_tz": -180
    },
    "id": "oQeccUFHHWFy",
    "outputId": "ff696ede-e5ab-4815-be62-344230c537b0"
   },
   "outputs": [
    {
     "data": {
      "image/png": "[encoded data removed]",
      "text/plain": [
       "<matplotlib.figure.Figure at 0x1ae3c82a7b8>"
      ]
     },
     "metadata": {},
     "output_type": "display_data"
    },
    {
     "name": "stdout",
     "output_type": "stream",
     "text": [
      "6\n"
     ]
    },
    {
     "data": {
      "image/png": "[encoded data removed]",
      "text/plain": [
       "<matplotlib.figure.Figure at 0x1ae3cb01588>"
      ]
     },
     "metadata": {},
     "output_type": "display_data"
    },
    {
     "name": "stdout",
     "output_type": "stream",
     "text": [
      "4\n"
     ]
    }
   ],
   "source": [
    "def show(image):\n",
    "    fig = pyplot.figure(figsize=(1,1))\n",
    "    ax = fig.add_subplot(1,1,1)\n",
    "    imgplot = ax.imshow(image, cmap=mpl.cm.Greys)\n",
    "    pyplot.show()\n",
    "\n",
    "show(mnist.train.images[3].reshape([28,28]))\n",
    "print(np.argmax(mnist.train.labels[3]))\n",
    "show(mnist.test.images[555].reshape([28,28]))\n",
    "print(np.argmax(mnist.test.labels[555]))"
   ]
  },
  {
   "cell_type": "code",
   "execution_count": 5,
   "metadata": {
    "colab": {
     "autoexec": {
      "startup": false,
      "wait_interval": 0
     },
     "base_uri": "https://localhost:8080/",
     "height": 34,
     "output_extras": [
      {
       "item_id": 1
      }
     ]
    },
    "colab_type": "code",
    "executionInfo": {
     "elapsed": 600,
     "status": "ok",
     "timestamp": 1517318688672,
     "user": {
      "displayName": "Олег Шляжко",
      "photoUrl": "//lh4.googleusercontent.com/-Elaaq3ASMm4/AAAAAAAAAAI/AAAAAAAAHOM/oXx3UdhG90U/s50-c-k-no/photo.jpg",
      "userId": "111648812276287248102"
     },
     "user_tz": -180
    },
    "id": "P07d8s9HH8M2",
    "outputId": "d6ea902a-17f7-443c-b9a7-3837b5da1107"
   },
   "outputs": [
    {
     "data": {
      "text/plain": [
       "((49500, 784), (5500, 784), (10000, 784))"
      ]
     },
     "execution_count": 5,
     "metadata": {},
     "output_type": "execute_result"
    }
   ],
   "source": [
    "xtrain, xval, ytrain, yval = train_test_split(mnist.train.images, mnist.train.labels, test_size=0.1, random_state=42)\n",
    "xtest = mnist.test.images\n",
    "ytest = mnist.test.labels\n",
    "xtrain.shape, xval.shape, xtest.shape"
   ]
  },
  {
   "cell_type": "code",
   "execution_count": 39,
   "metadata": {
    "colab": {
     "autoexec": {
      "startup": false,
      "wait_interval": 0
     }
    },
    "colab_type": "code",
    "collapsed": true,
    "id": "CsngssnvLRRv"
   },
   "outputs": [],
   "source": [
    "image_size = 28 * 28\n",
    "layer1 = 300\n",
    "output_size = 10\n",
    "\n",
    "learning_rate = 0.1\n",
    "iterations = 30000\n",
    "dropout = 0.5\n",
    "batch_size = 128"
   ]
  },
  {
   "cell_type": "code",
   "execution_count": 40,
   "metadata": {
    "colab": {
     "autoexec": {
      "startup": false,
      "wait_interval": 0
     }
    },
    "colab_type": "code",
    "collapsed": true,
    "id": "SWWgH8YoILev"
   },
   "outputs": [],
   "source": [
    "x = tf.placeholder(tf.float32, [None, image_size])\n",
    "y = tf.placeholder(tf.float32, [None, output_size])\n",
    "keep_probability = tf.placeholder(tf.float32)"
   ]
  },
  {
   "cell_type": "code",
   "execution_count": 41,
   "metadata": {
    "colab": {
     "autoexec": {
      "startup": false,
      "wait_interval": 0
     }
    },
    "colab_type": "code",
    "collapsed": true,
    "id": "MXCth4llLfnX"
   },
   "outputs": [],
   "source": [
    "w_relu = tf.Variable(tf.truncated_normal([image_size, layer1], stddev=0.01))\n",
    "b_relu = tf.Variable(tf.truncated_normal([layer1], stddev=0.01))\n",
    "\n",
    "w = tf.Variable(tf.zeros([layer1, output_size]))\n",
    "b = tf.Variable(tf.zeros([output_size]))"
   ]
  },
  {
   "cell_type": "code",
   "execution_count": 42,
   "metadata": {
    "colab": {
     "autoexec": {
      "startup": false,
      "wait_interval": 0
     }
    },
    "colab_type": "code",
    "collapsed": true,
    "id": "qnUizO6TLtNm"
   },
   "outputs": [],
   "source": [
    "h = tf.nn.relu(tf.matmul(x, w_relu) + b_relu) # relu layer\n",
    "h_drop = tf.nn.dropout(h, keep_probability) # dropout layer\n",
    "y_pred = tf.nn.softmax(tf.matmul(h_drop, w) + b) # softmax output"
   ]
  },
  {
   "cell_type": "code",
   "execution_count": 43,
   "metadata": {
    "colab": {
     "autoexec": {
      "startup": false,
      "wait_interval": 0
     }
    },
    "colab_type": "code",
    "collapsed": true,
    "id": "0oMt5kuHMHGb"
   },
   "outputs": [],
   "source": [
    "loss = tf.reduce_mean(-tf.reduce_sum(y * tf.log(y_pred), reduction_indices=[1]))\n",
    "train_step = tf.train.GradientDescentOptimizer(learning_rate).minimize(loss)"
   ]
  },
  {
   "cell_type": "code",
   "execution_count": 44,
   "metadata": {
    "colab": {
     "autoexec": {
      "startup": false,
      "wait_interval": 0
     },
     "base_uri": "https://localhost:8080/",
     "height": 34,
     "output_extras": [
      {
       "item_id": 1
      }
     ]
    },
    "colab_type": "code",
    "executionInfo": {
     "elapsed": 2813,
     "status": "ok",
     "timestamp": 1517318795999,
     "user": {
      "displayName": "Олег Шляжко",
      "photoUrl": "//lh4.googleusercontent.com/-Elaaq3ASMm4/AAAAAAAAAAI/AAAAAAAAHOM/oXx3UdhG90U/s50-c-k-no/photo.jpg",
      "userId": "111648812276287248102"
     },
     "user_tz": -180
    },
    "id": "phhP2dgJMcNF",
    "outputId": "5b67e4cc-7324-4b80-a3f2-d45f0dd3211e"
   },
   "outputs": [
    {
     "name": "stdout",
     "output_type": "stream",
     "text": [
      "0\n",
      "1000\n",
      "2000\n",
      "3000\n",
      "4000\n",
      "5000\n",
      "6000\n",
      "7000\n",
      "8000\n",
      "9000\n",
      "10000\n",
      "11000\n",
      "12000\n",
      "13000\n",
      "14000\n",
      "15000\n",
      "16000\n",
      "17000\n",
      "18000\n",
      "19000\n",
      "20000\n",
      "21000\n",
      "22000\n",
      "23000\n",
      "24000\n",
      "25000\n",
      "26000\n",
      "27000\n",
      "28000\n",
      "29000\n",
      "Done\n"
     ]
    }
   ],
   "source": [
    "init = tf.global_variables_initializer()\n",
    "session = tf.Session()\n",
    "session.run(init)\n",
    "for i in range(iterations):\n",
    "    x_batch, y_batch = mnist.train.next_batch(batch_size)\n",
    "    session.run(train_step, feed_dict={x: x_batch, y: y_batch, keep_probability: dropout})\n",
    "    if i%1000==0:\n",
    "        print(i)\n",
    "print('Done')"
   ]
  },
  {
   "cell_type": "code",
   "execution_count": 45,
   "metadata": {
    "colab": {
     "autoexec": {
      "startup": false,
      "wait_interval": 0
     }
    },
    "colab_type": "code",
    "collapsed": true,
    "id": "J824HSAiM4bw"
   },
   "outputs": [],
   "source": [
    "accuracy = tf.reduce_mean(tf.cast(tf.equal(tf.argmax(y_pred, 1), tf.argmax(y, 1)), tf.float32))\n",
    "errors = tf.reduce_sum(tf.cast(tf.not_equal(tf.argmax(y_pred, 1), tf.argmax(y, 1)), tf.float32))"
   ]
  },
  {
   "cell_type": "code",
   "execution_count": 46,
   "metadata": {
    "colab": {
     "autoexec": {
      "startup": false,
      "wait_interval": 0
     },
     "base_uri": "https://localhost:8080/",
     "height": 34,
     "output_extras": [
      {
       "item_id": 1
      }
     ]
    },
    "colab_type": "code",
    "executionInfo": {
     "elapsed": 688,
     "status": "ok",
     "timestamp": 1517318832187,
     "user": {
      "displayName": "Олег Шляжко",
      "photoUrl": "//lh4.googleusercontent.com/-Elaaq3ASMm4/AAAAAAAAAAI/AAAAAAAAHOM/oXx3UdhG90U/s50-c-k-no/photo.jpg",
      "userId": "111648812276287248102"
     },
     "user_tz": -180
    },
    "id": "R8eSTm-sM8F8",
    "outputId": "20a41d1c-3753-4442-bf26-91f23eaae2f8"
   },
   "outputs": [
    {
     "name": "stdout",
     "output_type": "stream",
     "text": [
      "Accuracy: 0.9709 errors: 250.0\n"
     ]
    }
   ],
   "source": [
    "acc = session.run(accuracy, feed_dict={x: mnist.test.images, y: mnist.test.labels, keep_probability: dropout})\n",
    "errs = session.run(errors, feed_dict={x: mnist.test.images, y: mnist.test.labels, keep_probability: dropout})\n",
    "print(\"Accuracy: %s errors: %s\" % (acc, errs))"
   ]
  }
 ],
 "metadata": {
  "accelerator": "GPU",
  "colab": {
   "collapsed_sections": [],
   "default_view": {},
   "name": "tf_mnist",
   "provenance": [],
   "version": "0.3.2",
   "views": {}
  },
  "kernelspec": {
   "display_name": "Python 3",
   "language": "python",
   "name": "python3"
  },
  "language_info": {
   "codemirror_mode": {
    "name": "ipython",
    "version": 3
   },
   "file_extension": ".py",
   "mimetype": "text/x-python",
   "name": "python",
   "nbconvert_exporter": "python",
   "pygments_lexer": "ipython3",
   "version": "3.6.3"
  }
 },
 "nbformat": 4,
 "nbformat_minor": 1
}
