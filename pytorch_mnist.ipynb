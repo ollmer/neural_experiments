{
 "cells": [
  {
   "cell_type": "code",
   "execution_count": 1,
   "metadata": {},
   "outputs": [],
   "source": [
    "import torch\n",
    "import torchvision\n",
    "import torchvision.transforms as transforms\n",
    "import torch.nn as nn\n",
    "import torch.optim as optim\n",
    "import torch.nn.functional as f\n",
    "\n",
    "from time import time\n",
    "import numpy as np\n",
    "\n",
    "from matplotlib import pyplot\n",
    "import matplotlib as mpl\n",
    "%matplotlib inline"
   ]
  },
  {
   "cell_type": "code",
   "execution_count": 2,
   "metadata": {},
   "outputs": [
    {
     "name": "stdout",
     "output_type": "stream",
     "text": [
      "cuda True\n"
     ]
    }
   ],
   "source": [
    "use_cuda = torch.cuda.is_available()\n",
    "print('cuda', use_cuda)"
   ]
  },
  {
   "cell_type": "code",
   "execution_count": 12,
   "metadata": {},
   "outputs": [],
   "source": [
    "image_size = 28 * 28\n",
    "layer1 = 300\n",
    "output_size = 10\n",
    "\n",
    "learning_rate = 0.1\n",
    "iterations = 15000\n",
    "dropout = 0.5\n",
    "batch_size = 128"
   ]
  },
  {
   "cell_type": "code",
   "execution_count": 13,
   "metadata": {},
   "outputs": [],
   "source": [
    "# if not exist, download mnist dataset\n",
    "train_set = torchvision.datasets.MNIST(root='/tmp', train=True, transform=transforms.ToTensor(), download=True)\n",
    "test_set = torchvision.datasets.MNIST(root='/tmp', train=False, transform=transforms.ToTensor(), download=True)"
   ]
  },
  {
   "cell_type": "code",
   "execution_count": 14,
   "metadata": {},
   "outputs": [
    {
     "name": "stdout",
     "output_type": "stream",
     "text": [
      "total training batches: 469\n",
      "total testing batches: 79\n"
     ]
    }
   ],
   "source": [
    "train_loader = torch.utils.data.DataLoader(dataset=train_set, batch_size=batch_size, shuffle=False)\n",
    "test_loader = torch.utils.data.DataLoader(dataset=test_set, batch_size=batch_size, shuffle=False)\n",
    "print('total training batches: {}'.format(len(train_loader)))\n",
    "print('total testing batches: {}'.format(len(test_loader)))"
   ]
  },
  {
   "cell_type": "code",
   "execution_count": 15,
   "metadata": {},
   "outputs": [],
   "source": [
    "def show(image):\n",
    "    image = image.view(28,28).numpy()\n",
    "    print(image.shape)\n",
    "    fig = pyplot.figure(figsize=(1,1))\n",
    "    ax = fig.add_subplot(1,1,1)\n",
    "    imgplot = ax.imshow(image, cmap=mpl.cm.Greys)\n",
    "    pyplot.show()"
   ]
  },
  {
   "cell_type": "code",
   "execution_count": 16,
   "metadata": {},
   "outputs": [
    {
     "name": "stdout",
     "output_type": "stream",
     "text": [
      "(28, 28)\n"
     ]
    },
    {
     "data": {
      "image/png": "[encoded data removed]",
      "text/plain": [
       "<Figure size 72x72 with 1 Axes>"
      ]
     },
     "metadata": {},
     "output_type": "display_data"
    },
    {
     "name": "stdout",
     "output_type": "stream",
     "text": [
      "tensor(4)\n",
      "(28, 28)\n"
     ]
    },
    {
     "data": {
      "image/png": "[encoded data removed]",
      "text/plain": [
       "<Figure size 72x72 with 1 Axes>"
      ]
     },
     "metadata": {},
     "output_type": "display_data"
    },
    {
     "name": "stdout",
     "output_type": "stream",
     "text": [
      "tensor(0)\n"
     ]
    }
   ],
   "source": [
    "show(train_set[2][0])\n",
    "print(train_set[2][1])\n",
    "show(test_set[3][0])\n",
    "print(test_set[3][1])"
   ]
  },
  {
   "cell_type": "code",
   "execution_count": 39,
   "metadata": {},
   "outputs": [
    {
     "name": "stdout",
     "output_type": "stream",
     "text": [
      "238510\n"
     ]
    }
   ],
   "source": [
    "class DenseClassifier(nn.Module):\n",
    "    def __init__(self):\n",
    "        super().__init__()        \n",
    "        self.dense1 = nn.Linear(image_size, layer1)\n",
    "        self.relu = nn.ReLU()\n",
    "        self.drop = nn.Dropout(dropout)\n",
    "        self.dense2 = nn.Linear(layer1, output_size)\n",
    "        \n",
    "    def forward(self, x):\n",
    "        x = x.view(-1, image_size)\n",
    "        x = self.dense1(x)\n",
    "        x = self.relu(x)\n",
    "        x = self.drop(x)\n",
    "        y = self.dense2(x)\n",
    "        return y\n",
    "    \n",
    "    def count_parameters(self, module=None):\n",
    "        if module is None:\n",
    "            module = self\n",
    "        return sum(p.numel() for p in module.parameters() if p.requires_grad)\n",
    "    \n",
    "model = DenseClassifier()\n",
    "if use_cuda:\n",
    "    model = model.cuda()\n",
    "print(model.count_parameters())"
   ]
  },
  {
   "cell_type": "code",
   "execution_count": 40,
   "metadata": {},
   "outputs": [],
   "source": [
    "optimizer = optim.SGD(model.parameters(), lr=learning_rate)\n",
    "criterion = nn.CrossEntropyLoss()"
   ]
  },
  {
   "cell_type": "code",
   "execution_count": 41,
   "metadata": {},
   "outputs": [],
   "source": [
    "def test(model, test_loader):\n",
    "    with torch.no_grad():\n",
    "        test_loss = []\n",
    "        accs = []\n",
    "        errs = 0\n",
    "        for x,target in test_loader:\n",
    "            if use_cuda:\n",
    "                x, target = x.cuda(), target.cuda()\n",
    "            out = model(x)\n",
    "            _, pred = f.softmax(out, dim=-1).max(dim=-1)\n",
    "            match = target == pred\n",
    "            acc = match.sum().float()/len(match)\n",
    "            errs += len(match)-match.sum().cpu().item()\n",
    "            loss = criterion(out, target)\n",
    "            test_loss.append(loss.cpu().item())\n",
    "            accs.append(acc.cpu().item())\n",
    "    print('Errs', errs)\n",
    "    return np.mean(test_loss), np.mean(accs)\n",
    "\n",
    "def acc(out, target):\n",
    "    _, pred = f.softmax(out, dim=-1).max(dim=-1)\n",
    "    match = target == pred\n",
    "    return match.sum().float()/len(match)"
   ]
  },
  {
   "cell_type": "code",
   "execution_count": 42,
   "metadata": {},
   "outputs": [
    {
     "name": "stdout",
     "output_type": "stream",
     "text": [
      "Errs 1045\n",
      "epoch 469, train loss 0.6310, test loss 0.3581, acc 0.8960, time 5.0s\n",
      "Errs 800\n",
      "epoch 938, train loss 0.3207, test loss 0.2711, acc 0.9202, time 4.6s\n",
      "Errs 667\n",
      "epoch 1407, train loss 0.2589, test loss 0.2242, acc 0.9333, time 4.6s\n",
      "Errs 593\n",
      "epoch 1876, train loss 0.2219, test loss 0.2039, acc 0.9414, time 4.7s\n",
      "Errs 525\n",
      "epoch 2345, train loss 0.1951, test loss 0.1795, acc 0.9481, time 4.7s\n",
      "Errs 520\n",
      "epoch 2814, train loss 0.1772, test loss 0.1713, acc 0.9486, time 4.6s\n",
      "Errs 461\n",
      "epoch 3283, train loss 0.1626, test loss 0.1557, acc 0.9544, time 4.6s\n",
      "Errs 439\n",
      "epoch 3752, train loss 0.1514, test loss 0.1473, acc 0.9566, time 4.7s\n",
      "Errs 424\n",
      "epoch 4221, train loss 0.1430, test loss 0.1398, acc 0.9581, time 4.8s\n",
      "Errs 410\n",
      "epoch 4690, train loss 0.1338, test loss 0.1365, acc 0.9595, time 4.6s\n",
      "Errs 411\n",
      "epoch 5159, train loss 0.1267, test loss 0.1299, acc 0.9594, time 4.6s\n",
      "Errs 395\n",
      "epoch 5628, train loss 0.1192, test loss 0.1281, acc 0.9609, time 4.7s\n",
      "Errs 368\n",
      "epoch 6097, train loss 0.1148, test loss 0.1187, acc 0.9636, time 4.7s\n",
      "Errs 352\n",
      "epoch 6566, train loss 0.1106, test loss 0.1215, acc 0.9652, time 4.6s\n",
      "Errs 349\n",
      "epoch 7035, train loss 0.1043, test loss 0.1181, acc 0.9655, time 4.7s\n",
      "Errs 330\n",
      "epoch 7504, train loss 0.1006, test loss 0.1129, acc 0.9674, time 4.7s\n",
      "Errs 370\n",
      "epoch 7973, train loss 0.0969, test loss 0.1139, acc 0.9634, time 4.7s\n",
      "Errs 326\n",
      "epoch 8442, train loss 0.0946, test loss 0.1073, acc 0.9678, time 4.6s\n",
      "Errs 326\n",
      "epoch 8911, train loss 0.0908, test loss 0.1081, acc 0.9678, time 4.6s\n",
      "Errs 312\n",
      "epoch 9380, train loss 0.0870, test loss 0.1051, acc 0.9691, time 4.6s\n",
      "Errs 305\n",
      "epoch 9849, train loss 0.0858, test loss 0.1002, acc 0.9698, time 4.6s\n",
      "Errs 321\n",
      "epoch 10318, train loss 0.0846, test loss 0.1066, acc 0.9683, time 4.7s\n",
      "Errs 320\n",
      "epoch 10787, train loss 0.0824, test loss 0.1001, acc 0.9684, time 4.7s\n",
      "Errs 295\n",
      "epoch 11256, train loss 0.0769, test loss 0.1003, acc 0.9708, time 4.7s\n",
      "Errs 299\n",
      "epoch 11725, train loss 0.0764, test loss 0.1015, acc 0.9697, time 4.7s\n",
      "Errs 287\n",
      "epoch 12194, train loss 0.0744, test loss 0.0996, acc 0.9716, time 4.7s\n",
      "Errs 307\n",
      "epoch 12663, train loss 0.0731, test loss 0.1016, acc 0.9696, time 4.7s\n",
      "Errs 296\n",
      "epoch 13132, train loss 0.0708, test loss 0.0982, acc 0.9707, time 5.1s\n",
      "Errs 289\n",
      "epoch 13601, train loss 0.0682, test loss 0.0962, acc 0.9714, time 4.8s\n",
      "Errs 292\n",
      "epoch 14070, train loss 0.0671, test loss 0.0951, acc 0.9711, time 4.7s\n",
      "Errs 287\n",
      "epoch 14539, train loss 0.0668, test loss 0.0956, acc 0.9716, time 4.7s\n",
      "CPU times: user 2min 25s, sys: 3.26 s, total: 2min 28s\n",
      "Wall time: 2min 29s\n"
     ]
    }
   ],
   "source": [
    "%%time\n",
    "i=0\n",
    "losses = []\n",
    "accs = []\n",
    "for _ in range(iterations):\n",
    "    dt = time()\n",
    "    train_loss = []\n",
    "    model.train()\n",
    "    for batch_idx, (x, target) in enumerate(train_loader):\n",
    "        i+=1\n",
    "        optimizer.zero_grad()\n",
    "        if use_cuda:\n",
    "            x, target = x.cuda(), target.cuda()\n",
    "        out = model(x)\n",
    "        loss = criterion(out, target)\n",
    "        loss.backward()\n",
    "        optimizer.step()\n",
    "        train_loss.append(loss.cpu().item())\n",
    "        losses.append(loss.cpu().item())\n",
    "        accs.append(acc(out, target))\n",
    "    if i >= iterations:\n",
    "        break\n",
    "    test_loss, accuracy = test(model, test_loader)\n",
    "    train_loss = np.mean(train_loss)\n",
    "    print('epoch %d, train loss %.4f, test loss %.4f, acc %.4f, time %3.1fs' % (i, train_loss, test_loss, accuracy, time()-dt))\n",
    "   "
   ]
  },
  {
   "cell_type": "code",
   "execution_count": 43,
   "metadata": {},
   "outputs": [
    {
     "data": {
      "image/png": "[encoded data removed]",
      "text/plain": [
       "<Figure size 1080x432 with 2 Axes>"
      ]
     },
     "metadata": {},
     "output_type": "display_data"
    },
    {
     "name": "stdout",
     "output_type": "stream",
     "text": [
      "Errs 290\n",
      "Test accuracy 0.971\n"
     ]
    }
   ],
   "source": [
    "fig, ax = pyplot.subplots(2,1, figsize=(15, 6))\n",
    "ax[0].plot(losses, color='b', label=\"loss\")\n",
    "ax[1].plot(accs, color='g', label=\"accuracy\")\n",
    "legend = ax[0].legend(loc='best')\n",
    "legend = ax[1].legend(loc='best')\n",
    "pyplot.show()\n",
    "test_loss, acc = test(model, test_loader)\n",
    "print('Test accuracy %.3f' % acc)"
   ]
  }
 ],
 "metadata": {
  "kernelspec": {
   "display_name": "Python 3",
   "language": "python",
   "name": "python3"
  },
  "language_info": {
   "codemirror_mode": {
    "name": "ipython",
    "version": 3
   },
   "file_extension": ".py",
   "mimetype": "text/x-python",
   "name": "python",
   "nbconvert_exporter": "python",
   "pygments_lexer": "ipython3",
   "version": "3.6.5"
  }
 },
 "nbformat": 4,
 "nbformat_minor": 2
}
